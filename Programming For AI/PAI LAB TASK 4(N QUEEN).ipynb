{
 "cells": [
  {
   "cell_type": "code",
   "execution_count": null,
   "id": "445b2d8d-dd39-4302-b935-54598b088511",
   "metadata": {},
   "outputs": [
    {
     "name": "stdin",
     "output_type": "stream",
     "text": [
      "Enter the size of the chessboard (N): 4\n"
     ]
    },
    {
     "name": "stdout",
     "output_type": "stream",
     "text": [
      "Welcome to the N-Queens Game!\n",
      ". . . .\n",
      ". . . .\n",
      ". . . .\n",
      ". . . .\n",
      "\n"
     ]
    },
    {
     "name": "stdin",
     "output_type": "stream",
     "text": [
      "Enter row (0-3) for queen 1 (or type 'quit' to exist):  0\n",
      "Enter col (0-3) for queen 1 (or type 'quit' to exist):  1\n"
     ]
    },
    {
     "name": "stdout",
     "output_type": "stream",
     "text": [
      ". Q . .\n",
      ". . . .\n",
      ". . . .\n",
      ". . . .\n",
      "\n"
     ]
    },
    {
     "name": "stdin",
     "output_type": "stream",
     "text": [
      "Enter row (0-3) for queen 2 (or type 'quit' to exist):  7\n",
      "Enter col (0-3) for queen 2 (or type 'quit' to exist):  8\n"
     ]
    },
    {
     "name": "stdout",
     "output_type": "stream",
     "text": [
      "Invalid input! Out of bounds.Try again.\n"
     ]
    },
    {
     "name": "stdin",
     "output_type": "stream",
     "text": [
      "Enter row (0-3) for queen 2 (or type 'quit' to exist):  6\n",
      "Enter col (0-3) for queen 2 (or type 'quit' to exist):  9\n"
     ]
    },
    {
     "name": "stdout",
     "output_type": "stream",
     "text": [
      "Invalid input! Out of bounds.Try again.\n"
     ]
    },
    {
     "name": "stdin",
     "output_type": "stream",
     "text": [
      "Enter row (0-3) for queen 2 (or type 'quit' to exist):  quit\n"
     ]
    },
    {
     "name": "stdout",
     "output_type": "stream",
     "text": [
      "Thanks for playing!\n"
     ]
    }
   ],
   "source": [
    "def print_board(board):\n",
    "    for row in board:\n",
    "        print(\" \".join(row))\n",
    "    print()\n",
    "\n",
    "def is_valid(board, row, col, N):\n",
    "    for i in range(N):\n",
    "        if board[i][col] == 'Q':\n",
    "            return False\n",
    "            \n",
    "    for j in range(N):\n",
    "        if board[row][j] == 'Q':\n",
    "            return False\n",
    "            \n",
    "    for i, j in zip(range(row, -1, -1), range(col, -1, -1)):\n",
    "        if board[i][j] == 'Q':\n",
    "            return False\n",
    "            \n",
    "    for i,j in zip(range(row, -1, -1), range(col, N)):\n",
    "        if board[i][j] == 'Q':\n",
    "            return False\n",
    "            \n",
    "    for i, j in zip(range(row, N), range(col, -1, -1)):\n",
    "        if board[i][j] == 'Q':\n",
    "            return False\n",
    "    for i, j in zip(range(row, N), range(col, N)):\n",
    "        if board[i][j] == 'Q':\n",
    "            return False\n",
    "            \n",
    "    return True\n",
    "\n",
    "def can_place_more_queens(board, N):\n",
    "    for row in range(N):\n",
    "        for col in range(N):\n",
    "            if board[row][col] == '.' and is_valid(board, row, col, N):\n",
    "                return True\n",
    "    return False\n",
    "\n",
    "def n_queens_game(N):\n",
    "    board = [['.' for _ in range(N)] for _ in range(N)]\n",
    "    queens_placed = 0\n",
    "    \n",
    "    print(\"Welcome to the N-Queens Game!\")\n",
    "    print_board(board)\n",
    "    \n",
    "    while queens_placed < N:\n",
    "        if not can_place_more_queens(board, N):\n",
    "            print(\"No more valid moves! Restarting the game...\")\n",
    "            choice = input(\"Do you want to play with a different board size? (yes/no/quit): \").strip().lower()\n",
    "            if choice == \"yes\":\n",
    "                N = int(input(\"Enter the new size of the chessboard (N):\"))\n",
    "                return n_queens_game(N)\n",
    "            elif choice == 'quit':\n",
    "                print(\"Thanks for playing!\")\n",
    "                return\n",
    "        try:\n",
    "            while True:\n",
    "                row = input(f\"Enter row (0-{N-1}) for queen {queens_placed + 1} (or type 'quit' to exist): \")\n",
    "                if row.lower() == 'quit':\n",
    "                    print(\"Thanks for playing!\")\n",
    "                    return\n",
    "                col = input(f\"Enter col (0-{N-1}) for queen {queens_placed + 1} (or type 'quit' to exist): \")\n",
    "                if col.lower() == 'quit':\n",
    "                    print(\"Thanks for playing!\")\n",
    "                    return\n",
    "                    \n",
    "                row, col = int(row), int(col)\n",
    "                if 0 <= row < N and 0 <= col < N:\n",
    "                    if board[row][col] == '.' and is_valid(board, row, col, N):\n",
    "                        board[row][col] = 'Q'\n",
    "                        queens_placed += 1\n",
    "                        print_board(board)\n",
    "                        break\n",
    "                    else:\n",
    "                        print(\"Invalid move! Queen cannot be placed there.Try again.\")\n",
    "                else:\n",
    "                    print(\"Invalid input! Out of bounds.Try again.\")\n",
    "        except ValueError:\n",
    "            print(\"Invaild input! Enter numbers only.\")\n",
    "    print(\"Congratulations! You placed all queens correctly.\")\n",
    "\n",
    "N = int(input(\"Enter the size of the chessboard (N):\"))\n",
    "n_queens_game(N)\n",
    "def print_board(board):\n",
    "    for row in board:\n",
    "        print(\" \".join(row))\n",
    "    print()\n",
    "\n",
    "def is_valid(board, row, col, N):\n",
    "    for i in range(N):\n",
    "        if board[i][col] == 'Q':\n",
    "            return False\n",
    "            \n",
    "    for j in range(N):\n",
    "        if board[row][j] == 'Q':\n",
    "            return False\n",
    "            \n",
    "    for i, j in zip(range(row, -1, -1), range(col, -1, -1)):\n",
    "        if board[i][j] == 'Q':\n",
    "            return False\n",
    "            \n",
    "    for i, j in zip(range(row, -1, -1), range(col, N)):\n",
    "        if board[i][j] == 'Q':\n",
    "            return False\n",
    "            \n",
    "    for i, j in zip(range(row, N), range(col, -1, -1)):\n",
    "        if board[i][j] == 'Q':\n",
    "            return False\n",
    "            \n",
    "    for i, j in zip(range(row, N), range(col, N)):\n",
    "        if board[i][j] == 'Q':\n",
    "            return False\n",
    "            \n",
    "    return True\n",
    "    \n",
    "def can_place_more_queens(board, N):\n",
    "    for row in range(N):\n",
    "        for col in range(N):\n",
    "            if board[row][col] == '.' and is_valid(board, row, col, N):\n",
    "                return True\n",
    "    return False\n",
    "\n",
    "def n_queens_game(N):\n",
    "    board = [['.' for _ in range(N)] for _ in range(N)]\n",
    "    queens_placed = 0\n",
    "    print(\"Welcome to the N-Queens Game!\")\n",
    "    print_board(board)\n",
    "    \n",
    "    while queens_placed < N:\n",
    "        if not can_place_more_queens(boars, N):\n",
    "            print(\"No more valid moves! Restarting the game....\")\n",
    "            choice = input(\"Do you want to play with a different board size? (yes/no): \").strip().lower()\n",
    "            if choice == 'yes':\n",
    "                N = int(input(\"Enter the new size of the chessboard (N): \"))\n",
    "            return n_queens_game(N)\n",
    "        try:\n",
    "            while True:\n",
    "                row = int(input(f\"Enter row (0-{N-1}) for queen {queens_placed + 1}: \"))\n",
    "                col = int(input(f\"Enter col (0-{N-1}) for queen {queens_placed + 1}: \"))\n",
    "                \n",
    "                if 0 <= row < N and 0 <= col < N:\n",
    "                    if board[row][col] == '.' and is_valid(board, row, col, N):\n",
    "                        board[row][col] = 'Q'\n",
    "                        queens_placed += 1\n",
    "                        print_board(board)\n",
    "                        break\n",
    "                    else:\n",
    "                        print(\"Invalid move! Queen cannot be placed there. Try again.\")\n",
    "                else:\n",
    "                    print(\"Invalid input! Out of bounds. Try again.\")\n",
    "                    \n",
    "        except ValueError:\n",
    "            print(\"Invalid input! Enter numbers only.\")\n",
    "            \n",
    "    print(\"Congratulations! You placed all queens correctly.\")\n",
    "\n",
    "N = int(input(\"Enter the size of the chessboard (N): \"))\n",
    "n_queens_game(N)\n",
    "                                "
   ]
  },
  {
   "cell_type": "code",
   "execution_count": null,
   "id": "f3d4d170-4f18-4b7d-b630-6504966b1405",
   "metadata": {},
   "outputs": [],
   "source": [
    "\n",
    "\n",
    "    \n",
    "   \n",
    "    \n",
    "\n",
    "                \n"
   ]
  }
 ],
 "metadata": {
  "kernelspec": {
   "display_name": "Python 3 (ipykernel)",
   "language": "python",
   "name": "python3"
  },
  "language_info": {
   "codemirror_mode": {
    "name": "ipython",
    "version": 3
   },
   "file_extension": ".py",
   "mimetype": "text/x-python",
   "name": "python",
   "nbconvert_exporter": "python",
   "pygments_lexer": "ipython3",
   "version": "3.11.7"
  }
 },
 "nbformat": 4,
 "nbformat_minor": 5
}
